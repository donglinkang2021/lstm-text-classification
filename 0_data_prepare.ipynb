{
 "cells": [
  {
   "cell_type": "markdown",
   "metadata": {},
   "source": [
    "# Data prepare"
   ]
  },
  {
   "cell_type": "markdown",
   "metadata": {},
   "source": [
    "## Build Vocabulary"
   ]
  },
  {
   "cell_type": "code",
   "execution_count": 1,
   "metadata": {},
   "outputs": [],
   "source": [
    "from utils.tokenizer import build_vocab\n",
    "vocab = build_vocab(data_path='data/origin/Train.txt')\n",
    "vocab.save('data/process/vocab.txt')"
   ]
  },
  {
   "cell_type": "code",
   "execution_count": 2,
   "metadata": {},
   "outputs": [
    {
     "name": "stdout",
     "output_type": "stream",
     "text": [
      "Total vocabulary size: 5251\n"
     ]
    }
   ],
   "source": [
    "print(\"Total vocabulary size: {}\".format(len(vocab)))"
   ]
  },
  {
   "cell_type": "code",
   "execution_count": 3,
   "metadata": {},
   "outputs": [
    {
     "name": "stdout",
     "output_type": "stream",
     "text": [
      "0\t财经\t上证50ETF净申购突增\n",
      "0\t财经\t交银施罗德保本基金将发行\n",
      "0\t财经\t基金公司不裁员反扩军 走访名校揽人才\n",
      "0\t财经\t基金巨亏30亿 欲打开云天系跌停自救\n",
      "0\t财经\t基金市场周二缩量走低\n",
      "\n"
     ]
    }
   ],
   "source": [
    "from utils.data_prepare import load_text\n",
    "train_text = load_text('data/origin/Train.txt')\n",
    "print(train_text[:100])"
   ]
  },
  {
   "cell_type": "code",
   "execution_count": 4,
   "metadata": {},
   "outputs": [
    {
     "name": "stdout",
     "output_type": "stream",
     "text": [
      "text: 上证50ETF净申购突增\n",
      "tokenized_text: [24, 212, 14, 3, 240, 154, 342, 786, 594, 160, 627, 214]\n",
      "label_name: 财经\n",
      "label: 0\n",
      "text: 交银施罗德保本基金将发行\n",
      "tokenized_text: [162, 262, 905, 273, 198, 239, 65, 83, 30, 34, 37, 42]\n",
      "label_name: 财经\n",
      "label: 0\n",
      "text: 基金公司不裁员反扩军 走访名校揽人才\n",
      "tokenized_text: [83, 30, 52, 255, 20, 716, 206, 199, 1072, 166, 2, 271, 753, 81, 460, 1691, 13, 746]\n",
      "label_name: 财经\n",
      "label: 0\n",
      "text: 基金巨亏30亿 欲打开云天系跌停自救\n",
      "tokenized_text: [83, 30, 603, 960, 10, 3, 115, 2, 631, 174, 44, 738, 110, 453, 171, 541, 143, 637]\n",
      "label_name: 财经\n",
      "label: 0\n",
      "text: 基金市场周二缩量走低\n",
      "tokenized_text: [83, 30, 32, 46, 140, 290, 1004, 341, 271, 202]\n",
      "label_name: 财经\n",
      "label: 0\n"
     ]
    }
   ],
   "source": [
    "for line in train_text.split('\\n')[:5]:\n",
    "    label, label_name, text = line.split('\\t')\n",
    "    print(f\"text: {text}\")\n",
    "    print(f\"tokenized_text: {vocab.to_indices(text)}\")\n",
    "    print(f\"label_name: {label_name}\")\n",
    "    print(f\"label: {label}\")"
   ]
  },
  {
   "cell_type": "markdown",
   "metadata": {},
   "source": [
    "## Shuffle and Split"
   ]
  },
  {
   "cell_type": "code",
   "execution_count": 5,
   "metadata": {},
   "outputs": [],
   "source": [
    "from utils.data_prepare import shuffle_data, split_data_and_to_indices\n",
    "\n",
    "shuffle_data(\n",
    "    'data/origin/Train.txt', \n",
    "    'data/process/all_data.txt'\n",
    ")\n",
    "split_data_and_to_indices(\n",
    "    'data/process/train.txt', \n",
    "    'data/process/val.txt', \n",
    "    'data/process/all_data.txt',\n",
    "    'data/process/vocab.txt'\n",
    ")"
   ]
  }
 ],
 "metadata": {
  "kernelspec": {
   "display_name": "d2l",
   "language": "python",
   "name": "python3"
  },
  "language_info": {
   "codemirror_mode": {
    "name": "ipython",
    "version": 3
   },
   "file_extension": ".py",
   "mimetype": "text/x-python",
   "name": "python",
   "nbconvert_exporter": "python",
   "pygments_lexer": "ipython3",
   "version": "3.9.18"
  }
 },
 "nbformat": 4,
 "nbformat_minor": 2
}
