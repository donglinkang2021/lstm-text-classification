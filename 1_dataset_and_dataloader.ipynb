{
 "cells": [
  {
   "cell_type": "code",
   "execution_count": 2,
   "metadata": {},
   "outputs": [],
   "source": [
    "from utils.data_prepare import load_text\n",
    "train_list = load_text('./data/process/train.txt')"
   ]
  },
  {
   "cell_type": "code",
   "execution_count": 11,
   "metadata": {},
   "outputs": [
    {
     "name": "stdout",
     "output_type": "stream",
     "text": [
      "[23, 24, 140, 1208, 1619, 1215, 333, 594, 805, 78, 161, 644, 152, 214, 10, 103]\t3\n",
      "[566, 381, 516, 675, 648, 292, 2, 127, 333, 1397, 177, 60, 43, 96, 373, 546, 231]\t6\n",
      "[132, 580, 445, 160, 60, 173, 217, 191, 632, 484, 497, 136, 715, 307, 2, 39, 20, 39, 426, 292, 1282, 61, 64, 68, 754]\t10\n",
      "[432, 83, 306, 653, 272, 760, 13, 191, 1683, 536, 34, 482, 221, 156, 8, 451, 136, 338, 478]\t6\n",
      "[84, 165, 309, 45, 50, 59, 1032, 134, 439, 2, 650, 10, 182, 56, 29, 239, 1397, 61, 438, 10, 3, 115]\t3\n",
      "[156, 89, 234, 25\n"
     ]
    }
   ],
   "source": [
    "print(train_list[:500])"
   ]
  },
  {
   "cell_type": "code",
   "execution_count": 7,
   "metadata": {},
   "outputs": [
    {
     "name": "stdout",
     "output_type": "stream",
     "text": [
      "[23, 24, 140, 1208, 1619, 1215, 333, 594, 805, 78, 161, 644, 152, 214, 10, 103] 3\n",
      "<class 'list'> <class 'int'>\n",
      "[566, 381, 516, 675, 648, 292, 2, 127, 333, 1397, 177, 60, 43, 96, 373, 546, 231] 6\n",
      "<class 'list'> <class 'int'>\n",
      "[132, 580, 445, 160, 60, 173, 217, 191, 632, 484, 497, 136, 715, 307, 2, 39, 20, 39, 426, 292, 1282, 61, 64, 68, 754] 10\n",
      "<class 'list'> <class 'int'>\n",
      "[432, 83, 306, 653, 272, 760, 13, 191, 1683, 536, 34, 482, 221, 156, 8, 451, 136, 338, 478] 6\n",
      "<class 'list'> <class 'int'>\n",
      "[84, 165, 309, 45, 50, 59, 1032, 134, 439, 2, 650, 10, 182, 56, 29, 239, 1397, 61, 438, 10, 3, 115] 3\n",
      "<class 'list'> <class 'int'>\n"
     ]
    }
   ],
   "source": [
    "for line in train_list.split('\\n')[:5]:\n",
    "    ids, label = line.split('\\t')\n",
    "    ids = eval(ids)\n",
    "    label = eval(label)\n",
    "    print(ids, label)\n",
    "    print(type(ids), type(label))"
   ]
  },
  {
   "cell_type": "code",
   "execution_count": 12,
   "metadata": {},
   "outputs": [],
   "source": [
    "from utils.dataset import NewsDataset, collate_fn\n",
    "from torch.utils.data import DataLoader\n",
    "train_dataset = NewsDataset(\"./data/process/train.txt\")\n",
    "val_dataset = NewsDataset(\"./data/process/val.txt\")\n",
    "batch_size = 64\n",
    "train_loader = DataLoader(train_dataset, batch_size=batch_size, collate_fn=collate_fn, shuffle=True)\n",
    "val_loader = DataLoader(val_dataset, batch_size=batch_size, collate_fn=collate_fn, shuffle=False)"
   ]
  },
  {
   "cell_type": "code",
   "execution_count": 13,
   "metadata": {},
   "outputs": [
    {
     "name": "stdout",
     "output_type": "stream",
     "text": [
      "=============train_loader =============\n",
      "tensor([[ 644,  239,    7,  ...,    1,    1,    1],\n",
      "        [ 354,  115,  167,  ...,    1,    1,    1],\n",
      "        [ 437,  165,  212,  ...,    1,    1,    1],\n",
      "        ...,\n",
      "        [1724, 2095,  828,  ...,    1,    1,    1],\n",
      "        [ 575, 1473,  691,  ...,    1,    1,    1],\n",
      "        [ 172,   87,   18,  ...,    1,    1,    1]])\n",
      "torch.Size([64, 32])\n",
      "tensor([13,  3,  3,  9, 13,  0,  7,  6,  5, 10,  6, 10, 12,  9, 10,  8, 13,  4,\n",
      "        10,  9,  9,  7, 13,  3,  6,  9,  6,  7,  6,  9, 13,  6,  8,  9,  0, 10,\n",
      "         7, 10, 10,  6,  6,  4, 10,  0, 10,  6, 10, 13,  8,  3,  5,  3,  4,  3,\n",
      "         3, 10,  9, 10,  8, 10, 10,  5,  3,  3])\n",
      "torch.Size([64])\n"
     ]
    }
   ],
   "source": [
    "print('=============train_loader =============')\n",
    "for data, label in train_loader:\n",
    "    print(data)\n",
    "    print(data.shape)\n",
    "    print(label)\n",
    "    print(label.shape)\n",
    "    break"
   ]
  },
  {
   "cell_type": "code",
   "execution_count": 14,
   "metadata": {},
   "outputs": [
    {
     "name": "stdout",
     "output_type": "stream",
     "text": [
      "=============val_loader =============\n",
      "tensor([[ 176,  157,  262,  ...,    1,    1,    1],\n",
      "        [ 396,  785,  404,  ...,    1,    1,    1],\n",
      "        [  53,   49, 1295,  ...,    1,    1,    1],\n",
      "        ...,\n",
      "        [ 284,  513,  290,  ...,    1,    1,    1],\n",
      "        [  15,    8,  102,  ...,    1,    1,    1],\n",
      "        [  52,  255,  912,  ...,    1,    1,    1]])\n",
      "torch.Size([64, 32])\n",
      "tensor([ 3,  3,  7,  3,  9,  9, 13, 10,  3,  3,  5,  4, 10, 10,  0, 10,  6, 13,\n",
      "         6, 10,  3,  6,  9,  9,  6,  3, 13,  5,  6, 10,  9,  0,  8,  6, 13,  3,\n",
      "        13, 13, 10,  9,  5,  3,  3,  6,  6, 10,  2, 10,  3,  3, 10,  6, 10, 10,\n",
      "        10,  6, 12,  3,  3,  7,  6,  2,  4,  3])\n",
      "torch.Size([64])\n"
     ]
    }
   ],
   "source": [
    "print('=============val_loader =============')\n",
    "for data, label in val_loader:\n",
    "    print(data)\n",
    "    print(data.shape)\n",
    "    print(label)\n",
    "    print(label.shape)\n",
    "    break"
   ]
  },
  {
   "cell_type": "code",
   "execution_count": 16,
   "metadata": {},
   "outputs": [],
   "source": [
    "from utils.tokenizer import Vocabulary\n",
    "\n",
    "vocab = Vocabulary.load('./data/process/vocab.txt')"
   ]
  },
  {
   "cell_type": "code",
   "execution_count": 18,
   "metadata": {},
   "outputs": [
    {
     "data": {
      "text/plain": [
       "tensor([176, 157, 262,  42, 175,  10, 103,   2,  88, 635,  74,  34, 614, 236,\n",
       "        214, 169,   1,   1,   1,   1,   1,   1,   1,   1,   1,   1,   1,   1,\n",
       "          1,   1,   1,   1])"
      ]
     },
     "execution_count": 18,
     "metadata": {},
     "output_type": "execute_result"
    }
   ],
   "source": [
    "data[0]"
   ]
  },
  {
   "cell_type": "code",
   "execution_count": 21,
   "metadata": {},
   "outputs": [
    {
     "data": {
      "text/plain": [
       "'江 西 铜 业 涨 3 . 3 3 %   高 盛 升 评 级 至 中 性 <pad> <pad> <pad> <pad> <pad> <pad> <pad> <pad> <pad> <pad> <pad> <pad> <pad>'"
      ]
     },
     "execution_count": 21,
     "metadata": {},
     "output_type": "execute_result"
    }
   ],
   "source": [
    "\" \".join(vocab.to_tokens(data[3].tolist()))"
   ]
  }
 ],
 "metadata": {
  "kernelspec": {
   "display_name": "d2l",
   "language": "python",
   "name": "python3"
  },
  "language_info": {
   "codemirror_mode": {
    "name": "ipython",
    "version": 3
   },
   "file_extension": ".py",
   "mimetype": "text/x-python",
   "name": "python",
   "nbconvert_exporter": "python",
   "pygments_lexer": "ipython3",
   "version": "3.9.18"
  }
 },
 "nbformat": 4,
 "nbformat_minor": 2
}
